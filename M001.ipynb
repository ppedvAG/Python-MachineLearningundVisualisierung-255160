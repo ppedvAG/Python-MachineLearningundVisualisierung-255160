{
 "cells": [
  {
   "cell_type": "markdown",
   "id": "b05b0b71-4f11-4497-bc41-078b0ca44951",
   "metadata": {},
   "source": [
    "## IPython\n",
    "\n",
    "Entwicklungsumgebung die primär für die Datenanalyse verwendet wird\n",
    "\n",
    "Zellen-basiertes Design\n",
    "- Einzelne kleine Python Skripte\n",
    "- Können separat ausgeführt werden\n",
    "- Zugriff auf vorherige Zellen\n",
    "\n",
    "__Fetter Text__\n",
    "\n",
    "_Kursiver Text_\n",
    "\n",
    "---"
   ]
  },
  {
   "cell_type": "markdown",
   "id": "46a64dd1-1048-46e5-8007-842b3871e455",
   "metadata": {},
   "source": [
    "Einzelnen Python Code definieren:"
   ]
  },
  {
   "cell_type": "code",
   "execution_count": 3,
   "id": "9f4b729c-4195-40e0-b0fc-f9997b3b6a08",
   "metadata": {},
   "outputs": [],
   "source": [
    "x = 5"
   ]
  },
  {
   "cell_type": "code",
   "execution_count": 5,
   "id": "d3e037bf-41cb-43fb-b11d-4fd0f8d9cb1d",
   "metadata": {},
   "outputs": [
    {
     "data": {
      "text/plain": [
       "3125"
      ]
     },
     "execution_count": 5,
     "metadata": {},
     "output_type": "execute_result"
    }
   ],
   "source": [
    "x ** x"
   ]
  },
  {
   "cell_type": "markdown",
   "id": "5bc1879b-f6eb-44db-ba91-bf015bed8cea",
   "metadata": {},
   "source": [
    "Funktionen definieren:"
   ]
  },
  {
   "cell_type": "code",
   "execution_count": 9,
   "id": "ce7f5630-64ea-4472-bb2e-3cb2e2d18b6f",
   "metadata": {},
   "outputs": [],
   "source": [
    "def xHochX(x: int):\n",
    "    return x ** x"
   ]
  },
  {
   "cell_type": "code",
   "execution_count": 10,
   "id": "ded75b0a-f578-486b-8db0-dc4eaccf21a8",
   "metadata": {},
   "outputs": [
    {
     "data": {
      "text/plain": [
       "10000000000"
      ]
     },
     "execution_count": 10,
     "metadata": {},
     "output_type": "execute_result"
    }
   ],
   "source": [
    "xHochX(10)"
   ]
  },
  {
   "cell_type": "code",
   "execution_count": 12,
   "id": "ae40fe3c-b56e-492c-ba42-8758d9ddb303",
   "metadata": {},
   "outputs": [],
   "source": [
    "import pandas as pd"
   ]
  },
  {
   "cell_type": "code",
   "execution_count": 13,
   "id": "5f2b5e26-3aa0-4e76-875e-0518e4330e14",
   "metadata": {},
   "outputs": [
    {
     "data": {
      "text/html": [
       "<div>\n",
       "<style scoped>\n",
       "    .dataframe tbody tr th:only-of-type {\n",
       "        vertical-align: middle;\n",
       "    }\n",
       "\n",
       "    .dataframe tbody tr th {\n",
       "        vertical-align: top;\n",
       "    }\n",
       "\n",
       "    .dataframe thead th {\n",
       "        text-align: right;\n",
       "    }\n",
       "</style>\n",
       "<table border=\"1\" class=\"dataframe\">\n",
       "  <thead>\n",
       "    <tr style=\"text-align: right;\">\n",
       "      <th></th>\n",
       "      <th>Spalte 1</th>\n",
       "      <th>Spalte 2</th>\n",
       "      <th>Spalte 3</th>\n",
       "    </tr>\n",
       "  </thead>\n",
       "  <tbody>\n",
       "    <tr>\n",
       "      <th>0</th>\n",
       "      <td>1</td>\n",
       "      <td>4</td>\n",
       "      <td>7</td>\n",
       "    </tr>\n",
       "    <tr>\n",
       "      <th>1</th>\n",
       "      <td>2</td>\n",
       "      <td>5</td>\n",
       "      <td>8</td>\n",
       "    </tr>\n",
       "    <tr>\n",
       "      <th>2</th>\n",
       "      <td>3</td>\n",
       "      <td>6</td>\n",
       "      <td>9</td>\n",
       "    </tr>\n",
       "  </tbody>\n",
       "</table>\n",
       "</div>"
      ],
      "text/plain": [
       "   Spalte 1  Spalte 2  Spalte 3\n",
       "0         1         4         7\n",
       "1         2         5         8\n",
       "2         3         6         9"
      ]
     },
     "execution_count": 13,
     "metadata": {},
     "output_type": "execute_result"
    }
   ],
   "source": [
    "pd.DataFrame({\"Spalte 1\": [1, 2, 3], \"Spalte 2\": [4, 5, 6], \"Spalte 3\": [7, 8, 9]})"
   ]
  },
  {
   "cell_type": "code",
   "execution_count": 15,
   "id": "5b7c0ba5-d4a8-4bed-8d67-8cf864bcdd47",
   "metadata": {},
   "outputs": [],
   "source": [
    "import matplotlib.pyplot as plt"
   ]
  },
  {
   "cell_type": "code",
   "execution_count": 16,
   "id": "115a1467-5704-4273-a5f0-bc31a0ef70cc",
   "metadata": {},
   "outputs": [],
   "source": [
    "a = [1.3, 5.2, 3.3, 9.5, 2.8]"
   ]
  },
  {
   "cell_type": "code",
   "execution_count": 17,
   "id": "a40143ea-65f3-4806-a281-1c3c87542870",
   "metadata": {},
   "outputs": [
    {
     "data": {
      "text/plain": [
       "[<matplotlib.lines.Line2D at 0x1b3a8a3e5d0>]"
      ]
     },
     "execution_count": 17,
     "metadata": {},
     "output_type": "execute_result"
    },
    {
     "data": {
      "image/png": "[encoded data removed]",
      "text/plain": [
       "<Figure size 640x480 with 1 Axes>"
      ]
     },
     "metadata": {},
     "output_type": "display_data"
    }
   ],
   "source": [
    "plt.plot(a)"
   ]
  },
  {
   "cell_type": "markdown",
   "id": "355b8a83-4c3c-48c2-8357-c99dd736b3aa",
   "metadata": {},
   "source": [
    "## Shortcuts\n",
    "\n",
    "Strg/Shift + Enter: Zelle ausführen\n",
    "\n",
    "Pfeil hoch/hinunter: Zwischen Zellen hin- und herbewegen\n",
    "\n",
    "Enter, Escape: Zelle betreten/verlassen\n",
    "\n",
    "A, B: Neue Zelle darüber/darunter einfügen\n",
    "\n",
    "D + D: Zelle löschen\n",
    "\n",
    "Z: Rückgängig\n",
    "\n",
    "Shift + Z: Wiederherstellen\n",
    "\n",
    "M, Y: Zwischen Markdown und Codezelle umschalten"
   ]
  }
 ],
 "metadata": {
  "kernelspec": {
   "display_name": "Python 3 (ipykernel)",
   "language": "python",
   "name": "python3"
  },
  "language_info": {
   "codemirror_mode": {
    "name": "ipython",
    "version": 3
   },
   "file_extension": ".py",
   "mimetype": "text/x-python",
   "name": "python",
   "nbconvert_exporter": "python",
   "pygments_lexer": "ipython3",
   "version": "3.13.1"
  }
 },
 "nbformat": 4,
 "nbformat_minor": 5
}
