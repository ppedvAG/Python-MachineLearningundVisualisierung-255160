{
 "cells": [
  {
   "cell_type": "markdown",
   "id": "f2854855-3ce3-4be5-afc5-d3fd316aa0af",
   "metadata": {},
   "source": [
    "## Numpy\n",
    "\n",
    "Library zum Verarbeitung von Zahlen\n",
    "\n",
    "In weitere Folge auch Listen/Daten"
   ]
  },
  {
   "cell_type": "code",
   "execution_count": 1,
   "id": "864cf741-02d2-4884-9bb5-be425cbe6a7f",
   "metadata": {},
   "outputs": [],
   "source": [
    "import numpy as np"
   ]
  },
  {
   "cell_type": "markdown",
   "id": "d16d48fd-8d4c-4c0e-929d-3fa0fda122c4",
   "metadata": {
    "jp-MarkdownHeadingCollapsed": true,
    "jupyter": {
     "source_hidden": true
    }
   },
   "source": [
    "### Array\n",
    "\n",
    "ndarray - n-dimensional Array\n",
    "\n",
    "Numpy Arrays können verschieden viele Dimensionen haben\n",
    "\n",
    "z.B. 2D bei Daten\n",
    "\n",
    "z.B. 4D bei ML"
   ]
  },
  {
   "cell_type": "code",
   "execution_count": 3,
   "id": "01db040d-fca6-4d4f-90a9-120b89b190c9",
   "metadata": {},
   "outputs": [],
   "source": [
    "a = np.array([1, 2, 3, 4])"
   ]
  },
  {
   "cell_type": "code",
   "execution_count": 4,
   "id": "d04a34b0-6184-4c6c-b6f8-a67a94b1edc0",
   "metadata": {},
   "outputs": [
    {
     "data": {
      "text/plain": [
       "array([1, 2, 3, 4])"
      ]
     },
     "execution_count": 4,
     "metadata": {},
     "output_type": "execute_result"
    }
   ],
   "source": [
    "a"
   ]
  },
  {
   "cell_type": "code",
   "execution_count": 8,
   "id": "2b180ff3-4d32-4c64-8d12-9222c1b3bb3c",
   "metadata": {},
   "outputs": [
    {
     "data": {
      "text/plain": [
       "np.int64(1)"
      ]
     },
     "execution_count": 8,
     "metadata": {},
     "output_type": "execute_result"
    }
   ],
   "source": [
    "a[0]  # Zugriff aufs Array wie in Python"
   ]
  },
  {
   "cell_type": "code",
   "execution_count": 6,
   "id": "2e6a3a47-a2d4-4e10-b9fa-2149de4612d4",
   "metadata": {},
   "outputs": [
    {
     "data": {
      "text/plain": [
       "array([1, 2])"
      ]
     },
     "execution_count": 6,
     "metadata": {},
     "output_type": "execute_result"
    }
   ],
   "source": [
    "a[0:2]"
   ]
  },
  {
   "cell_type": "code",
   "execution_count": 9,
   "id": "6d469137-d033-4119-b6fb-05af059ac155",
   "metadata": {},
   "outputs": [
    {
     "data": {
      "text/plain": [
       "numpy.ndarray"
      ]
     },
     "execution_count": 9,
     "metadata": {},
     "output_type": "execute_result"
    }
   ],
   "source": [
    "type(a)"
   ]
  },
  {
   "cell_type": "code",
   "execution_count": 13,
   "id": "77310901-d93b-4a3b-8c0e-5990d4fa40b8",
   "metadata": {},
   "outputs": [
    {
     "data": {
      "text/plain": [
       "1"
      ]
     },
     "execution_count": 13,
     "metadata": {},
     "output_type": "execute_result"
    }
   ],
   "source": [
    "a.ndim  # Anzahl Dimensionen"
   ]
  },
  {
   "cell_type": "code",
   "execution_count": 12,
   "id": "820facc2-d0de-44be-b7c6-6c03b31addfb",
   "metadata": {},
   "outputs": [
    {
     "data": {
      "text/plain": [
       "(4,)"
      ]
     },
     "execution_count": 12,
     "metadata": {},
     "output_type": "execute_result"
    }
   ],
   "source": [
    "a.shape  # Länge/Breite/Höhe/... herausfinden"
   ]
  },
  {
   "cell_type": "code",
   "execution_count": 15,
   "id": "5a68550f-3768-4def-af52-1970f2feaed5",
   "metadata": {},
   "outputs": [
    {
     "data": {
      "text/plain": [
       "dtype('int64')"
      ]
     },
     "execution_count": 15,
     "metadata": {},
     "output_type": "execute_result"
    }
   ],
   "source": [
    "a.dtype  # Typ der einzelnen Elemente"
   ]
  },
  {
   "cell_type": "markdown",
   "id": "7d3d2929-19c0-437a-8657-454214facff5",
   "metadata": {
    "jp-MarkdownHeadingCollapsed": true,
    "jupyter": {
     "source_hidden": true
    }
   },
   "source": [
    "### Datentypen\n",
    "\n",
    "Python: int, float, complex\n",
    "\n",
    "Numpy:\n",
    "\n",
    "- Ganze Zahlen:\n",
    "    - int8\n",
    "    - int16\n",
    "    - int32\n",
    "    - int64\n",
    "\n",
    "- Kommazahlen:\n",
    "    - float16\n",
    "    - float32\n",
    "    - float64"
   ]
  },
  {
   "cell_type": "code",
   "execution_count": 26,
   "id": "156a92d7-b93a-4d3f-9212-e312315d9aa3",
   "metadata": {},
   "outputs": [
    {
     "data": {
      "text/plain": [
       "32"
      ]
     },
     "execution_count": 26,
     "metadata": {},
     "output_type": "execute_result"
    }
   ],
   "source": [
    "a  # 8 Byte pro Zahl = 32B\n",
    "a.nbytes"
   ]
  },
  {
   "cell_type": "code",
   "execution_count": 17,
   "id": "90e7bc2e-b9b3-4f2e-a115-02ce13c5bac1",
   "metadata": {},
   "outputs": [],
   "source": [
    "b = np.array([1, 2, 3, 4], dtype=np.int8)"
   ]
  },
  {
   "cell_type": "code",
   "execution_count": 27,
   "id": "02009dac-61ac-43b4-b128-9cabf05e28f2",
   "metadata": {},
   "outputs": [
    {
     "data": {
      "text/plain": [
       "4"
      ]
     },
     "execution_count": 27,
     "metadata": {},
     "output_type": "execute_result"
    }
   ],
   "source": [
    "b.nbytes"
   ]
  },
  {
   "cell_type": "markdown",
   "id": "696b3588-981d-4fef-bf57-8920f68ee5e2",
   "metadata": {
    "jupyter": {
     "source_hidden": true
    }
   },
   "source": [
    "### Simple Datenanalyse"
   ]
  },
  {
   "cell_type": "code",
   "execution_count": 32,
   "id": "2139003a-a098-46c2-ad26-a78ffc614943",
   "metadata": {},
   "outputs": [
    {
     "data": {
      "text/plain": [
       "np.int64(10)"
      ]
     },
     "execution_count": 32,
     "metadata": {},
     "output_type": "execute_result"
    }
   ],
   "source": [
    "a.sum()  # direkt"
   ]
  },
  {
   "cell_type": "code",
   "execution_count": 33,
   "id": "e54397f7-31d5-4c41-a5ed-916e4d0a70a6",
   "metadata": {},
   "outputs": [
    {
     "data": {
      "text/plain": [
       "np.int64(10)"
      ]
     },
     "execution_count": 33,
     "metadata": {},
     "output_type": "execute_result"
    }
   ],
   "source": [
    "np.sum(a)  # indirekt"
   ]
  },
  {
   "cell_type": "code",
   "execution_count": 34,
   "id": "2ec9376d-9a45-460f-a904-82d3b4e43500",
   "metadata": {},
   "outputs": [
    {
     "data": {
      "text/plain": [
       "np.float64(2.5)"
      ]
     },
     "execution_count": 34,
     "metadata": {},
     "output_type": "execute_result"
    }
   ],
   "source": [
    "a.mean()"
   ]
  },
  {
   "cell_type": "code",
   "execution_count": 38,
   "id": "f6e994ca-d959-47b6-8a70-a5e8714b5be9",
   "metadata": {},
   "outputs": [
    {
     "data": {
      "text/plain": [
       "np.float64(1.118033988749895)"
      ]
     },
     "execution_count": 38,
     "metadata": {},
     "output_type": "execute_result"
    }
   ],
   "source": [
    "a.std()"
   ]
  },
  {
   "cell_type": "code",
   "execution_count": 39,
   "id": "b4f74b56-ce81-475b-a432-0bca636619b5",
   "metadata": {},
   "outputs": [
    {
     "data": {
      "text/plain": [
       "np.float64(1.25)"
      ]
     },
     "execution_count": 39,
     "metadata": {},
     "output_type": "execute_result"
    }
   ],
   "source": [
    "a.var()"
   ]
  },
  {
   "cell_type": "markdown",
   "id": "35922f64-c636-42af-9af7-9bdb9f5e3820",
   "metadata": {},
   "source": [
    "#### arange"
   ]
  },
  {
   "cell_type": "code",
   "execution_count": 40,
   "id": "39c3b814-386b-4857-8db2-82f74a761536",
   "metadata": {},
   "outputs": [
    {
     "data": {
      "text/plain": [
       "array([0, 1, 2, 3, 4, 5, 6, 7, 8, 9])"
      ]
     },
     "execution_count": 40,
     "metadata": {},
     "output_type": "execute_result"
    }
   ],
   "source": [
    "np.arange(10)"
   ]
  },
  {
   "cell_type": "code",
   "execution_count": 42,
   "id": "7c180810-e2f7-4ea3-b2a5-f417d7c49fcd",
   "metadata": {},
   "outputs": [
    {
     "data": {
      "text/plain": [
       "array([0, 1, 2, 3, 4, 5, 6, 7, 8, 9])"
      ]
     },
     "execution_count": 42,
     "metadata": {},
     "output_type": "execute_result"
    }
   ],
   "source": [
    "np.array(range(10))  # Über Python Range einen Bereich erzeugen"
   ]
  },
  {
   "cell_type": "markdown",
   "id": "39c7eb35-bd5f-4f90-be26-db3e4e493cb4",
   "metadata": {},
   "source": [
    "### Matrizen\n",
    "\n",
    "2D-Arrays\n",
    "\n",
    "Jedes Datenset ist eine Matrix"
   ]
  },
  {
   "cell_type": "code",
   "execution_count": 98,
   "id": "78f87478-5750-4f6e-be08-83879fd3263a",
   "metadata": {},
   "outputs": [],
   "source": [
    "c = np.array([\n",
    "    [1, 2, 3],\n",
    "    [4, 5, 6],\n",
    "    [7, 8, 9]\n",
    "])"
   ]
  },
  {
   "cell_type": "code",
   "execution_count": 46,
   "id": "746e81d8-1cdd-4346-8dce-7ddaaf0050d7",
   "metadata": {},
   "outputs": [
    {
     "data": {
      "text/plain": [
       "array([[1, 2, 3],\n",
       "       [4, 5, 6],\n",
       "       [7, 8, 9]])"
      ]
     },
     "execution_count": 46,
     "metadata": {},
     "output_type": "execute_result"
    }
   ],
   "source": [
    "c"
   ]
  },
  {
   "cell_type": "markdown",
   "id": "27b77f78-1b7f-4176-836b-90dd76a7690e",
   "metadata": {},
   "source": [
    "#### Index"
   ]
  },
  {
   "cell_type": "code",
   "execution_count": 47,
   "id": "039e0fbf-dff4-4729-89ad-48a0a731c9c9",
   "metadata": {},
   "outputs": [
    {
     "data": {
      "text/plain": [
       "array([1, 2, 3])"
      ]
     },
     "execution_count": 47,
     "metadata": {},
     "output_type": "execute_result"
    }
   ],
   "source": [
    "c[0]"
   ]
  },
  {
   "cell_type": "code",
   "execution_count": 48,
   "id": "a95be0c2-d6e1-42fc-a493-9bf8c28be04f",
   "metadata": {},
   "outputs": [
    {
     "data": {
      "text/plain": [
       "np.int64(2)"
      ]
     },
     "execution_count": 48,
     "metadata": {},
     "output_type": "execute_result"
    }
   ],
   "source": [
    "c[0][1]"
   ]
  },
  {
   "cell_type": "code",
   "execution_count": 50,
   "id": "afc73667-2e16-42ba-9900-cb481b1ed803",
   "metadata": {},
   "outputs": [
    {
     "data": {
      "text/plain": [
       "np.int64(2)"
      ]
     },
     "execution_count": 50,
     "metadata": {},
     "output_type": "execute_result"
    }
   ],
   "source": [
    "c[0, 1]  # In Python nicht möglich"
   ]
  },
  {
   "cell_type": "code",
   "execution_count": 51,
   "id": "f950bc5c-32a3-4d9f-89c8-6ba192b14b35",
   "metadata": {},
   "outputs": [
    {
     "data": {
      "text/plain": [
       "array([[1, 2, 3],\n",
       "       [4, 5, 6]])"
      ]
     },
     "execution_count": 51,
     "metadata": {},
     "output_type": "execute_result"
    }
   ],
   "source": [
    "c[0:2]"
   ]
  },
  {
   "cell_type": "code",
   "execution_count": 53,
   "id": "21dc6e5f-9d91-4056-ad75-ae0319b396b3",
   "metadata": {},
   "outputs": [
    {
     "data": {
      "text/plain": [
       "array([[2, 3],\n",
       "       [5, 6]])"
      ]
     },
     "execution_count": 53,
     "metadata": {},
     "output_type": "execute_result"
    }
   ],
   "source": [
    "# Aufgabe: 2, 3, 5, 6 entnehmen\n",
    "c[0:2, 1:3]"
   ]
  },
  {
   "cell_type": "code",
   "execution_count": 56,
   "id": "3e5cf6cb-a8c5-433f-ac9b-272a35a7c33e",
   "metadata": {},
   "outputs": [
    {
     "data": {
      "text/plain": [
       "array([[2, 3],\n",
       "       [5, 6]])"
      ]
     },
     "execution_count": 56,
     "metadata": {},
     "output_type": "execute_result"
    }
   ],
   "source": [
    "c[:2, 1:]  # Untergrenze/Obergrenze kann weggelassen werden, wenn diese 0 oder das Maximum sind"
   ]
  },
  {
   "cell_type": "code",
   "execution_count": 72,
   "id": "0fc3cf61-9fa0-47ba-9bd5-626986be9595",
   "metadata": {},
   "outputs": [
    {
     "data": {
      "text/plain": [
       "array([[1, 2],\n",
       "       [4, 5],\n",
       "       [7, 8]])"
      ]
     },
     "execution_count": 72,
     "metadata": {},
     "output_type": "execute_result"
    }
   ],
   "source": [
    "# Aufgabe: 1, 4, 7, 2, 5, 8 entnehmen\n",
    "c[:, :2]"
   ]
  },
  {
   "cell_type": "markdown",
   "id": "68a3bc64-b087-48a0-be94-3278f2ddcb94",
   "metadata": {},
   "source": [
    "#### Simple Funktionen in der Matrix"
   ]
  },
  {
   "cell_type": "code",
   "execution_count": 75,
   "id": "90f8c280-675f-4f61-a265-b72353517a1b",
   "metadata": {},
   "outputs": [
    {
     "data": {
      "text/plain": [
       "np.int64(45)"
      ]
     },
     "execution_count": 75,
     "metadata": {},
     "output_type": "execute_result"
    }
   ],
   "source": [
    "c.sum()  # Gesamte Matrix summieren"
   ]
  },
  {
   "cell_type": "code",
   "execution_count": 78,
   "id": "8fe731cd-d152-492e-a444-dd45570ecc15",
   "metadata": {},
   "outputs": [
    {
     "data": {
      "text/plain": [
       "array([12, 15, 18])"
      ]
     },
     "execution_count": 78,
     "metadata": {},
     "output_type": "execute_result"
    }
   ],
   "source": [
    "c.sum(axis=0)  # Senkrecht"
   ]
  },
  {
   "cell_type": "code",
   "execution_count": 79,
   "id": "74b27feb-2f8e-4d12-bc51-e145b7ae36bc",
   "metadata": {},
   "outputs": [
    {
     "data": {
      "text/plain": [
       "array([ 6, 15, 24])"
      ]
     },
     "execution_count": 79,
     "metadata": {},
     "output_type": "execute_result"
    }
   ],
   "source": [
    "c.sum(axis=1)  # Waagrecht"
   ]
  },
  {
   "cell_type": "markdown",
   "id": "89e43a7f-0f1a-4543-8add-118b0382fa46",
   "metadata": {},
   "source": [
    "#### Matrix verändern"
   ]
  },
  {
   "cell_type": "code",
   "execution_count": 100,
   "id": "799840e5-167b-48ea-b2f8-8618597533bb",
   "metadata": {},
   "outputs": [],
   "source": [
    "c[0, 1] = 10"
   ]
  },
  {
   "cell_type": "code",
   "execution_count": 101,
   "id": "2c1c30f8-1b12-490d-885a-f8003f7e153d",
   "metadata": {},
   "outputs": [
    {
     "data": {
      "text/plain": [
       "array([[ 1, 10,  3],\n",
       "       [ 4,  5,  6],\n",
       "       [ 7,  8,  9]])"
      ]
     },
     "execution_count": 101,
     "metadata": {},
     "output_type": "execute_result"
    }
   ],
   "source": [
    "c"
   ]
  },
  {
   "cell_type": "code",
   "execution_count": 102,
   "id": "ff0041a9-cae7-4927-9a79-4e1932728816",
   "metadata": {},
   "outputs": [],
   "source": [
    "c[:, 2] = -1"
   ]
  },
  {
   "cell_type": "code",
   "execution_count": 103,
   "id": "eac5aa8d-78d1-45a6-9ef3-2ff80178e03d",
   "metadata": {},
   "outputs": [
    {
     "data": {
      "text/plain": [
       "array([[ 1, 10, -1],\n",
       "       [ 4,  5, -1],\n",
       "       [ 7,  8, -1]])"
      ]
     },
     "execution_count": 103,
     "metadata": {},
     "output_type": "execute_result"
    }
   ],
   "source": [
    "c"
   ]
  },
  {
   "cell_type": "code",
   "execution_count": 104,
   "id": "cba7ceb9-7a68-4294-8c80-45ee99866013",
   "metadata": {},
   "outputs": [],
   "source": [
    "c[2] = 5"
   ]
  },
  {
   "cell_type": "code",
   "execution_count": 105,
   "id": "477a2d49-e9fa-456b-bebe-79dec1d5363b",
   "metadata": {},
   "outputs": [
    {
     "data": {
      "text/plain": [
       "array([[ 1, 10, -1],\n",
       "       [ 4,  5, -1],\n",
       "       [ 5,  5,  5]])"
      ]
     },
     "execution_count": 105,
     "metadata": {},
     "output_type": "execute_result"
    }
   ],
   "source": [
    "c"
   ]
  },
  {
   "cell_type": "code",
   "execution_count": 111,
   "id": "9a3ef630-93dd-483d-84fe-212a525b92ea",
   "metadata": {},
   "outputs": [],
   "source": [
    "c[2] = [1, 2, 3]"
   ]
  },
  {
   "cell_type": "code",
   "execution_count": 112,
   "id": "06d30676-f8b9-492f-bc8f-c1cb3c0652a1",
   "metadata": {},
   "outputs": [
    {
     "data": {
      "text/plain": [
       "array([[ 1, 10, -1],\n",
       "       [ 4,  5, -1],\n",
       "       [ 1,  2,  3]])"
      ]
     },
     "execution_count": 112,
     "metadata": {},
     "output_type": "execute_result"
    }
   ],
   "source": [
    "c"
   ]
  },
  {
   "cell_type": "markdown",
   "id": "62c69847-c3ad-40e5-89be-86964ca31d5a",
   "metadata": {},
   "source": [
    "### Vektorisierung\n",
    "\n",
    "Gesamtes Array mit einer einzelnen Operation verarbeiten\n",
    "\n",
    "Kann auch mit einem anderen Array (der gleichen Länge) angewandt werden"
   ]
  },
  {
   "cell_type": "code",
   "execution_count": 125,
   "id": "e692fc8e-b95e-45eb-a489-c436efb7ab7f",
   "metadata": {},
   "outputs": [],
   "source": [
    "d = np.arange(10)"
   ]
  },
  {
   "cell_type": "code",
   "execution_count": 126,
   "id": "7c126a2e-36a9-436f-95b9-254595ca5c49",
   "metadata": {},
   "outputs": [
    {
     "data": {
      "text/plain": [
       "array([0, 1, 2, 3, 4, 5, 6, 7, 8, 9])"
      ]
     },
     "execution_count": 126,
     "metadata": {},
     "output_type": "execute_result"
    }
   ],
   "source": [
    "d"
   ]
  },
  {
   "cell_type": "code",
   "execution_count": 127,
   "id": "9e4a8c11-df90-405c-8317-e192f6dd66de",
   "metadata": {},
   "outputs": [
    {
     "data": {
      "text/plain": [
       "array([ 2,  3,  4,  5,  6,  7,  8,  9, 10, 11])"
      ]
     },
     "execution_count": 127,
     "metadata": {},
     "output_type": "execute_result"
    }
   ],
   "source": [
    "d + 2  # Jede Stelle um 2 erhöhen"
   ]
  },
  {
   "cell_type": "code",
   "execution_count": 128,
   "id": "c74fc4fb-f536-4664-a0cf-305bdbec85c5",
   "metadata": {},
   "outputs": [],
   "source": [
    "d += 2  # Ergebnisse übernehmen"
   ]
  },
  {
   "cell_type": "code",
   "execution_count": 129,
   "id": "1edf4b6b-01ad-4e83-80b6-23956c445267",
   "metadata": {},
   "outputs": [
    {
     "data": {
      "text/plain": [
       "array([ 2,  3,  4,  5,  6,  7,  8,  9, 10, 11])"
      ]
     },
     "execution_count": 129,
     "metadata": {},
     "output_type": "execute_result"
    }
   ],
   "source": [
    "d"
   ]
  },
  {
   "cell_type": "code",
   "execution_count": 130,
   "id": "32c41c1f-40e8-416c-b918-a175891135a0",
   "metadata": {},
   "outputs": [
    {
     "data": {
      "text/plain": [
       "array([  4,   9,  16,  25,  36,  49,  64,  81, 100, 121])"
      ]
     },
     "execution_count": 130,
     "metadata": {},
     "output_type": "execute_result"
    }
   ],
   "source": [
    "d ** 2"
   ]
  },
  {
   "cell_type": "code",
   "execution_count": 131,
   "id": "b4bd5a4b-b837-45d3-b83e-21a84aa0d205",
   "metadata": {},
   "outputs": [],
   "source": [
    "d **= 2"
   ]
  },
  {
   "cell_type": "code",
   "execution_count": 132,
   "id": "fdc8d99a-fa50-4f49-96e3-6bc5e0c2d126",
   "metadata": {},
   "outputs": [
    {
     "data": {
      "text/plain": [
       "array([  4,   9,  16,  25,  36,  49,  64,  81, 100, 121])"
      ]
     },
     "execution_count": 132,
     "metadata": {},
     "output_type": "execute_result"
    }
   ],
   "source": [
    "d"
   ]
  },
  {
   "cell_type": "code",
   "execution_count": 133,
   "id": "420890ac-0f98-45aa-9be3-e2b1fb984694",
   "metadata": {},
   "outputs": [],
   "source": [
    "e = np.arange(10, 20)"
   ]
  },
  {
   "cell_type": "code",
   "execution_count": 134,
   "id": "7fa8e859-b686-4133-b162-8643e3a4c245",
   "metadata": {},
   "outputs": [
    {
     "data": {
      "text/plain": [
       "array([10, 11, 12, 13, 14, 15, 16, 17, 18, 19])"
      ]
     },
     "execution_count": 134,
     "metadata": {},
     "output_type": "execute_result"
    }
   ],
   "source": [
    "e"
   ]
  },
  {
   "cell_type": "code",
   "execution_count": 135,
   "id": "9db5a478-5ce2-4957-b4eb-36a36a552af6",
   "metadata": {},
   "outputs": [
    {
     "data": {
      "text/plain": [
       "array([ -6,  -2,   4,  12,  22,  34,  48,  64,  82, 102])"
      ]
     },
     "execution_count": 135,
     "metadata": {},
     "output_type": "execute_result"
    }
   ],
   "source": [
    "d - e"
   ]
  },
  {
   "cell_type": "markdown",
   "id": "d155a142-18c6-4665-b629-d710e54a1a4d",
   "metadata": {},
   "source": [
    "### Boolean Masken\n",
    "\n",
    "Vektorisierung mit Booleschen Operatoren"
   ]
  },
  {
   "cell_type": "code",
   "execution_count": 136,
   "id": "f64f4481-e77f-4e7c-8d3f-ac4cb2b9b556",
   "metadata": {},
   "outputs": [
    {
     "data": {
      "text/plain": [
       "array([  4,   9,  16,  25,  36,  49,  64,  81, 100, 121])"
      ]
     },
     "execution_count": 136,
     "metadata": {},
     "output_type": "execute_result"
    }
   ],
   "source": [
    "d"
   ]
  },
  {
   "cell_type": "code",
   "execution_count": 138,
   "id": "58c3da9c-f3ce-4c0e-b8a7-a08467f7e1c5",
   "metadata": {},
   "outputs": [
    {
     "data": {
      "text/plain": [
       "array([ True, False,  True, False,  True, False,  True, False,  True,\n",
       "       False])"
      ]
     },
     "execution_count": 138,
     "metadata": {},
     "output_type": "execute_result"
    }
   ],
   "source": [
    "d % 2 == 0  # Ergebnis: Boolean Array"
   ]
  },
  {
   "cell_type": "code",
   "execution_count": 143,
   "id": "fe3cd7b7-86c0-4c3e-ad12-6b3498d564ef",
   "metadata": {},
   "outputs": [],
   "source": [
    "m = d % 2 == 0"
   ]
  },
  {
   "cell_type": "code",
   "execution_count": 145,
   "id": "534fcbcd-50bc-4a29-8233-dd6454df1b22",
   "metadata": {},
   "outputs": [
    {
     "data": {
      "text/plain": [
       "array([  4,  16,  36,  64, 100])"
      ]
     },
     "execution_count": 145,
     "metadata": {},
     "output_type": "execute_result"
    }
   ],
   "source": [
    "d[m]  # Hier kommen nur die Elemente heraus, welche bei der Boolean Maske True sind"
   ]
  },
  {
   "cell_type": "code",
   "execution_count": 147,
   "id": "0ef2de07-5399-4b91-8f35-01671a1233ac",
   "metadata": {},
   "outputs": [
    {
     "data": {
      "text/plain": [
       "array([  4,  16,  36,  64, 100])"
      ]
     },
     "execution_count": 147,
     "metadata": {},
     "output_type": "execute_result"
    }
   ],
   "source": [
    "d[d % 2 == 0]"
   ]
  },
  {
   "cell_type": "code",
   "execution_count": 149,
   "id": "5b072448-b539-48f0-849b-13e20b50e8df",
   "metadata": {},
   "outputs": [
    {
     "data": {
      "text/plain": [
       "array([ 64,  81, 100, 121])"
      ]
     },
     "execution_count": 149,
     "metadata": {},
     "output_type": "execute_result"
    }
   ],
   "source": [
    "# Aufgabe: Finde alle überdurchschnittlichen Werte\n",
    "d[d > np.mean(d)]"
   ]
  },
  {
   "cell_type": "code",
   "execution_count": 150,
   "id": "27669cd1-cc84-471e-8d76-30ecf2b4f316",
   "metadata": {},
   "outputs": [
    {
     "data": {
      "text/plain": [
       "array([ 64,  81, 100, 121])"
      ]
     },
     "execution_count": 150,
     "metadata": {},
     "output_type": "execute_result"
    }
   ],
   "source": [
    "d[d > d.mean()]"
   ]
  },
  {
   "cell_type": "markdown",
   "id": "81dc9893-f0d5-4ad3-ac2a-4947e19ab0ef",
   "metadata": {},
   "source": [
    "### Performance\n",
    "\n",
    "Numpy ist in C geschrieben -> Performant"
   ]
  },
  {
   "cell_type": "code",
   "execution_count": 151,
   "id": "0c02557a-e3d4-42a4-9c9a-257f5a4abc0c",
   "metadata": {},
   "outputs": [],
   "source": [
    "p = 5"
   ]
  },
  {
   "cell_type": "code",
   "execution_count": 152,
   "id": "27572e78-08f4-436b-adc3-ee28b3082421",
   "metadata": {},
   "outputs": [],
   "source": [
    "import sys"
   ]
  },
  {
   "cell_type": "code",
   "execution_count": 154,
   "id": "535efaa0-e766-4e8b-a4f6-3d33aa626ca9",
   "metadata": {},
   "outputs": [
    {
     "data": {
      "text/plain": [
       "28"
      ]
     },
     "execution_count": 154,
     "metadata": {},
     "output_type": "execute_result"
    }
   ],
   "source": [
    "sys.getsizeof(p)"
   ]
  },
  {
   "cell_type": "code",
   "execution_count": 161,
   "id": "44aaf61c-27ad-4d2e-9210-87d1c86ee5a5",
   "metadata": {},
   "outputs": [],
   "source": [
    "n = np.array(5, dtype=np.int8)"
   ]
  },
  {
   "cell_type": "code",
   "execution_count": 162,
   "id": "8927ced7-5913-424c-98d4-c6ce6500ef04",
   "metadata": {},
   "outputs": [
    {
     "data": {
      "text/plain": [
       "array(5, dtype=int8)"
      ]
     },
     "execution_count": 162,
     "metadata": {},
     "output_type": "execute_result"
    }
   ],
   "source": [
    "n"
   ]
  },
  {
   "cell_type": "code",
   "execution_count": 163,
   "id": "2eb09c6c-a684-4743-b253-141153f13170",
   "metadata": {},
   "outputs": [
    {
     "data": {
      "text/plain": [
       "1"
      ]
     },
     "execution_count": 163,
     "metadata": {},
     "output_type": "execute_result"
    }
   ],
   "source": [
    "n.nbytes"
   ]
  },
  {
   "cell_type": "code",
   "execution_count": 164,
   "id": "8508910b-7d9b-49bc-b11e-4b2cd6779911",
   "metadata": {},
   "outputs": [
    {
     "data": {
      "text/plain": [
       "dtype('int8')"
      ]
     },
     "execution_count": 164,
     "metadata": {},
     "output_type": "execute_result"
    }
   ],
   "source": [
    "n.dtype"
   ]
  },
  {
   "cell_type": "markdown",
   "id": "7bdb7ff5-a8e2-4de1-8c7e-5cd1f1b506c4",
   "metadata": {},
   "source": [
    "#### Vergleich"
   ]
  },
  {
   "cell_type": "code",
   "execution_count": 168,
   "id": "5ce60821-2ccf-42b8-b461-e015db68422f",
   "metadata": {},
   "outputs": [],
   "source": [
    "import time\n",
    "def measureTime(func, anz):\n",
    "    start = time.time()\n",
    "    func(anz)\n",
    "    end = time.time()\n",
    "    print(end - start)"
   ]
  },
  {
   "cell_type": "code",
   "execution_count": 166,
   "id": "e19d6ebb-c188-4d3d-b25e-4dd78d3a2cdc",
   "metadata": {},
   "outputs": [],
   "source": [
    "def pythonList(x):\n",
    "    list(range(x))"
   ]
  },
  {
   "cell_type": "code",
   "execution_count": 167,
   "id": "24a3ca10-0f76-4627-9213-5881bde5177a",
   "metadata": {},
   "outputs": [],
   "source": [
    "def numpyArray(x):\n",
    "    np.arange(x)"
   ]
  },
  {
   "cell_type": "code",
   "execution_count": 176,
   "id": "c85ac421-0f5c-4940-b641-3e5a8b241897",
   "metadata": {},
   "outputs": [
    {
     "name": "stdout",
     "output_type": "stream",
     "text": [
      "2.5927700996398926\n"
     ]
    }
   ],
   "source": [
    "measureTime(pythonList, 100_000_000)  # 2.8GB"
   ]
  },
  {
   "cell_type": "code",
   "execution_count": 177,
   "id": "43ae6ab7-3b8a-4f22-8f7d-cb3ceeb90061",
   "metadata": {},
   "outputs": [
    {
     "name": "stdout",
     "output_type": "stream",
     "text": [
      "0.20548510551452637\n"
     ]
    }
   ],
   "source": [
    "measureTime(numpyArray, 100_000_000)  # 800MB"
   ]
  },
  {
   "cell_type": "markdown",
   "id": "e1fee2ec-c6a9-42f3-abd7-72364ebbb50e",
   "metadata": {},
   "source": [
    "### Weitere Funktionen"
   ]
  },
  {
   "cell_type": "markdown",
   "id": "f258ccdc-adae-4824-b960-d9cfadc75d40",
   "metadata": {},
   "source": [
    "#### Zufallszahlen"
   ]
  },
  {
   "cell_type": "code",
   "execution_count": 180,
   "id": "6a8cd727-fe0e-46ca-a3f5-aa40f02d34a5",
   "metadata": {},
   "outputs": [
    {
     "data": {
      "text/plain": [
       "0.6726285874291186"
      ]
     },
     "execution_count": 180,
     "metadata": {},
     "output_type": "execute_result"
    }
   ],
   "source": [
    "np.random.random()  # Erzeugt eine Zufallszahl zw. 0 und 1"
   ]
  },
  {
   "cell_type": "code",
   "execution_count": 191,
   "id": "3dee80dc-863d-4b97-8e65-9d3c24862f37",
   "metadata": {},
   "outputs": [
    {
     "data": {
      "text/plain": [
       "array([[0.55983205, 0.57533033, 0.81111065, 0.65070665],\n",
       "       [0.46185598, 0.09290567, 0.04941945, 0.02657001],\n",
       "       [0.59576717, 0.11377743, 0.04416969, 0.79307999],\n",
       "       [0.89638832, 0.04288059, 0.00228229, 0.75062592]])"
      ]
     },
     "execution_count": 191,
     "metadata": {},
     "output_type": "execute_result"
    }
   ],
   "source": [
    "np.random.random(size=(4, 4))"
   ]
  },
  {
   "cell_type": "code",
   "execution_count": 182,
   "id": "954ab5cb-4556-4da6-b824-3d3cd474d679",
   "metadata": {},
   "outputs": [
    {
     "data": {
      "text/plain": [
       "array([0.30396213, 0.47551408, 0.62563363, 0.17217524, 0.90208332,\n",
       "       0.78145938, 0.55979658, 0.31267224, 0.01261829, 0.18390335])"
      ]
     },
     "execution_count": 182,
     "metadata": {},
     "output_type": "execute_result"
    }
   ],
   "source": [
    "np.random.random(size=(10))"
   ]
  },
  {
   "cell_type": "code",
   "execution_count": 184,
   "id": "26589f8d-6778-4900-993b-d931d2a34d5c",
   "metadata": {},
   "outputs": [
    {
     "data": {
      "text/plain": [
       "array([[9.34362253, 3.26389966, 4.29646305, 5.75652905],\n",
       "       [5.85497717, 1.39639197, 4.98648722, 5.19261448],\n",
       "       [3.38095049, 7.37758246, 4.95653595, 6.94988515],\n",
       "       [4.34881617, 2.95836471, 6.36672098, 9.8879977 ]])"
      ]
     },
     "execution_count": 184,
     "metadata": {},
     "output_type": "execute_result"
    }
   ],
   "source": [
    "np.random.random(size=(4, 4)) * 10  # Zufallszahlen von 0-10"
   ]
  },
  {
   "cell_type": "code",
   "execution_count": 190,
   "id": "3833afad-34f7-4027-8144-5744de37f76d",
   "metadata": {},
   "outputs": [
    {
     "data": {
      "text/plain": [
       "array([[50, 30, 69, 89, 28],\n",
       "       [15, 58, 25, 61,  8],\n",
       "       [54, 63, 25, 19, 11],\n",
       "       [ 5, 36, 63, 30, 86],\n",
       "       [65, 21, 75, 15, 74]], dtype=int8)"
      ]
     },
     "execution_count": 190,
     "metadata": {},
     "output_type": "execute_result"
    }
   ],
   "source": [
    "np.random.randint(100, size=(5, 5), dtype=np.int8)"
   ]
  },
  {
   "cell_type": "markdown",
   "id": "1e5e30dd-20b0-4869-b09f-be84663e3317",
   "metadata": {},
   "source": [
    "#### reshape\n",
    "\n",
    "Dimensionen eines Array verändern (1D <-> 2D)"
   ]
  },
  {
   "cell_type": "code",
   "execution_count": 194,
   "id": "9551890a-5ea5-4d60-94b2-316d2b0c8cae",
   "metadata": {},
   "outputs": [
    {
     "data": {
      "text/plain": [
       "array([[0, 1, 2, 3, 4],\n",
       "       [5, 6, 7, 8, 9]])"
      ]
     },
     "execution_count": 194,
     "metadata": {},
     "output_type": "execute_result"
    }
   ],
   "source": [
    "np.arange(10).reshape(2, 5)  # 2 Zeilen, 5 Spalten"
   ]
  },
  {
   "cell_type": "code",
   "execution_count": 196,
   "id": "b2edf013-ea36-46ab-a69f-566a5b282c5e",
   "metadata": {},
   "outputs": [
    {
     "ename": "ValueError",
     "evalue": "cannot reshape array of size 10 into shape (3,3)",
     "output_type": "error",
     "traceback": [
      "\u001b[31m---------------------------------------------------------------------------\u001b[39m",
      "\u001b[31mValueError\u001b[39m                                Traceback (most recent call last)",
      "\u001b[36mCell\u001b[39m\u001b[36m \u001b[39m\u001b[32mIn[196]\u001b[39m\u001b[32m, line 1\u001b[39m\n\u001b[32m----> \u001b[39m\u001b[32m1\u001b[39m \u001b[43mnp\u001b[49m\u001b[43m.\u001b[49m\u001b[43marange\u001b[49m\u001b[43m(\u001b[49m\u001b[32;43m10\u001b[39;49m\u001b[43m)\u001b[49m\u001b[43m.\u001b[49m\u001b[43mreshape\u001b[49m\u001b[43m(\u001b[49m\u001b[32;43m3\u001b[39;49m\u001b[43m,\u001b[49m\u001b[43m \u001b[49m\u001b[32;43m3\u001b[39;49m\u001b[43m)\u001b[49m  \u001b[38;5;66;03m# Passt nicht\u001b[39;00m\n",
      "\u001b[31mValueError\u001b[39m: cannot reshape array of size 10 into shape (3,3)"
     ]
    }
   ],
   "source": [
    "np.arange(10).reshape(3, 3)  # Passt nicht"
   ]
  },
  {
   "cell_type": "code",
   "execution_count": 198,
   "id": "15ebafaf-0064-4b95-a338-9cb119525bca",
   "metadata": {},
   "outputs": [
    {
     "data": {
      "text/plain": [
       "array([0, 1, 2, 3, 4, 5, 6, 7, 8, 9])"
      ]
     },
     "execution_count": 198,
     "metadata": {},
     "output_type": "execute_result"
    }
   ],
   "source": [
    "np.arange(10)  # Aufgabe: Array senkrecht machen"
   ]
  },
  {
   "cell_type": "code",
   "execution_count": 201,
   "id": "2b7d10e2-def3-4db7-b005-f611cff64290",
   "metadata": {},
   "outputs": [
    {
     "data": {
      "text/plain": [
       "array([[0],\n",
       "       [1],\n",
       "       [2],\n",
       "       [3],\n",
       "       [4],\n",
       "       [5],\n",
       "       [6],\n",
       "       [7],\n",
       "       [8],\n",
       "       [9]])"
      ]
     },
     "execution_count": 201,
     "metadata": {},
     "output_type": "execute_result"
    }
   ],
   "source": [
    "np.arange(10).reshape(10, 1)"
   ]
  },
  {
   "cell_type": "code",
   "execution_count": 205,
   "id": "60966896-2009-4ecc-8930-792641a033b0",
   "metadata": {},
   "outputs": [
    {
     "data": {
      "text/plain": [
       "array([[0],\n",
       "       [1],\n",
       "       [2],\n",
       "       [3],\n",
       "       [4]])"
      ]
     },
     "execution_count": 205,
     "metadata": {},
     "output_type": "execute_result"
    }
   ],
   "source": [
    "np.arange(5).reshape(-1, 1)  # -1: Ergänzt die Anzahl der Zeilen mit der Anzahl der Elemente (Länge des Arrays)"
   ]
  },
  {
   "cell_type": "code",
   "execution_count": 206,
   "id": "b015954e-9bb9-41e9-9434-3d8fa28dc1ec",
   "metadata": {},
   "outputs": [],
   "source": [
    "k = np.array([[1], [2], [3], [4], [5]])"
   ]
  },
  {
   "cell_type": "code",
   "execution_count": 207,
   "id": "2b520086-1ed7-4ae7-9e9a-286211653fe0",
   "metadata": {},
   "outputs": [
    {
     "data": {
      "text/plain": [
       "array([[1],\n",
       "       [2],\n",
       "       [3],\n",
       "       [4],\n",
       "       [5]])"
      ]
     },
     "execution_count": 207,
     "metadata": {},
     "output_type": "execute_result"
    }
   ],
   "source": [
    "k"
   ]
  },
  {
   "cell_type": "code",
   "execution_count": 218,
   "id": "ff7ac52f-7099-4bfc-8050-5fd195d4d5b9",
   "metadata": {},
   "outputs": [
    {
     "data": {
      "text/plain": [
       "array([1, 2, 3, 4, 5])"
      ]
     },
     "execution_count": 218,
     "metadata": {},
     "output_type": "execute_result"
    }
   ],
   "source": [
    "k.reshape(-1,)  # -1, : 2D-Array eindimensional machen"
   ]
  },
  {
   "cell_type": "markdown",
   "id": "228e9a9f-5625-47e6-b8e8-a6b19e4b6fb0",
   "metadata": {},
   "source": [
    "### linspace\n",
    "\n",
    "Erzeugt ein Array von X bis Y mit Z Elementen\n",
    "\n",
    "Nachfolgende Elemente haben den gleichen Abstand zueinander"
   ]
  },
  {
   "cell_type": "code",
   "execution_count": 219,
   "id": "7d836c73-b790-45dd-bebc-da0e7248b6cb",
   "metadata": {},
   "outputs": [
    {
     "data": {
      "text/plain": [
       "array([  0.        ,   2.04081633,   4.08163265,   6.12244898,\n",
       "         8.16326531,  10.20408163,  12.24489796,  14.28571429,\n",
       "        16.32653061,  18.36734694,  20.40816327,  22.44897959,\n",
       "        24.48979592,  26.53061224,  28.57142857,  30.6122449 ,\n",
       "        32.65306122,  34.69387755,  36.73469388,  38.7755102 ,\n",
       "        40.81632653,  42.85714286,  44.89795918,  46.93877551,\n",
       "        48.97959184,  51.02040816,  53.06122449,  55.10204082,\n",
       "        57.14285714,  59.18367347,  61.2244898 ,  63.26530612,\n",
       "        65.30612245,  67.34693878,  69.3877551 ,  71.42857143,\n",
       "        73.46938776,  75.51020408,  77.55102041,  79.59183673,\n",
       "        81.63265306,  83.67346939,  85.71428571,  87.75510204,\n",
       "        89.79591837,  91.83673469,  93.87755102,  95.91836735,\n",
       "        97.95918367, 100.        ])"
      ]
     },
     "execution_count": 219,
     "metadata": {},
     "output_type": "execute_result"
    }
   ],
   "source": [
    "np.linspace(0, 100, 50)"
   ]
  },
  {
   "cell_type": "markdown",
   "id": "60f38962-5165-4195-93ae-3d79f3d61ba1",
   "metadata": {},
   "source": [
    "### zeros, ones"
   ]
  },
  {
   "cell_type": "code",
   "execution_count": 220,
   "id": "8e500713-ddbb-4ae2-935c-c42a6858a605",
   "metadata": {},
   "outputs": [
    {
     "data": {
      "text/plain": [
       "array([0., 0., 0., 0., 0., 0., 0., 0., 0., 0.])"
      ]
     },
     "execution_count": 220,
     "metadata": {},
     "output_type": "execute_result"
    }
   ],
   "source": [
    "np.zeros(10)"
   ]
  },
  {
   "cell_type": "code",
   "execution_count": 221,
   "id": "f0759870-e7cf-423c-b166-a6ea0cf36def",
   "metadata": {},
   "outputs": [
    {
     "data": {
      "text/plain": [
       "array([1., 1., 1., 1., 1., 1., 1., 1., 1., 1.])"
      ]
     },
     "execution_count": 221,
     "metadata": {},
     "output_type": "execute_result"
    }
   ],
   "source": [
    "np.ones(10)"
   ]
  },
  {
   "cell_type": "markdown",
   "id": "89a53b1d-d14d-4f79-a218-f460e22bf98e",
   "metadata": {},
   "source": [
    "### hstack, vstack\n",
    "\n",
    "Arrays \"zusammenbauen\"\n",
    "\n",
    "WICHTIG: Parameter muss eine Liste sein"
   ]
  },
  {
   "cell_type": "code",
   "execution_count": 222,
   "id": "237eceb1-2e4f-4441-b1d4-12681cadbf48",
   "metadata": {},
   "outputs": [],
   "source": [
    "x = np.arange(10)"
   ]
  },
  {
   "cell_type": "code",
   "execution_count": 223,
   "id": "d2dc1e3e-4c13-4d7f-87c2-f05048a55e9a",
   "metadata": {},
   "outputs": [],
   "source": [
    "y = np.arange(10, 20)"
   ]
  },
  {
   "cell_type": "code",
   "execution_count": 224,
   "id": "0e319aea-e2bf-4f71-8945-2dc689b837bb",
   "metadata": {},
   "outputs": [
    {
     "data": {
      "text/plain": [
       "array([0, 1, 2, 3, 4, 5, 6, 7, 8, 9])"
      ]
     },
     "execution_count": 224,
     "metadata": {},
     "output_type": "execute_result"
    }
   ],
   "source": [
    "x"
   ]
  },
  {
   "cell_type": "code",
   "execution_count": 225,
   "id": "04503cd0-6636-438d-869a-6d54bae396cc",
   "metadata": {},
   "outputs": [
    {
     "data": {
      "text/plain": [
       "array([10, 11, 12, 13, 14, 15, 16, 17, 18, 19])"
      ]
     },
     "execution_count": 225,
     "metadata": {},
     "output_type": "execute_result"
    }
   ],
   "source": [
    "y"
   ]
  },
  {
   "cell_type": "code",
   "execution_count": 231,
   "id": "12f4714f-f037-449c-873f-d574a6f59ff1",
   "metadata": {},
   "outputs": [
    {
     "data": {
      "text/plain": [
       "array([[ 0,  1,  2,  3,  4,  5,  6,  7,  8,  9],\n",
       "       [10, 11, 12, 13, 14, 15, 16, 17, 18, 19]])"
      ]
     },
     "execution_count": 231,
     "metadata": {},
     "output_type": "execute_result"
    }
   ],
   "source": [
    "np.vstack([x, y])  # Hier die beiden Arrays zu einem Tupel/Liste kombinieren"
   ]
  },
  {
   "cell_type": "code",
   "execution_count": 232,
   "id": "2d477b39-3aba-4ed2-9cf1-fed0f945570e",
   "metadata": {},
   "outputs": [
    {
     "data": {
      "text/plain": [
       "array([[ 0,  1,  2,  3,  4,  5,  6,  7,  8,  9],\n",
       "       [10, 11, 12, 13, 14, 15, 16, 17, 18, 19],\n",
       "       [ 0,  1,  2,  3,  4,  5,  6,  7,  8,  9],\n",
       "       [10, 11, 12, 13, 14, 15, 16, 17, 18, 19],\n",
       "       [ 0,  1,  2,  3,  4,  5,  6,  7,  8,  9],\n",
       "       [10, 11, 12, 13, 14, 15, 16, 17, 18, 19]])"
      ]
     },
     "execution_count": 232,
     "metadata": {},
     "output_type": "execute_result"
    }
   ],
   "source": [
    "np.vstack([x, y, x, y, x, y])"
   ]
  },
  {
   "cell_type": "code",
   "execution_count": 233,
   "id": "51b52353-4bbe-4dbd-b459-621182f94479",
   "metadata": {},
   "outputs": [
    {
     "data": {
      "text/plain": [
       "array([ 0,  1,  2,  3,  4,  5,  6,  7,  8,  9, 10, 11, 12, 13, 14, 15, 16,\n",
       "       17, 18, 19])"
      ]
     },
     "execution_count": 233,
     "metadata": {},
     "output_type": "execute_result"
    }
   ],
   "source": [
    "np.hstack([x, y])"
   ]
  },
  {
   "cell_type": "code",
   "execution_count": 234,
   "id": "db3f1c98-0ab7-49f6-b786-18634cffaf4f",
   "metadata": {},
   "outputs": [
    {
     "data": {
      "text/plain": [
       "array([[0],\n",
       "       [1],\n",
       "       [2],\n",
       "       [3],\n",
       "       [4],\n",
       "       [5],\n",
       "       [6],\n",
       "       [7],\n",
       "       [8],\n",
       "       [9]])"
      ]
     },
     "execution_count": 234,
     "metadata": {},
     "output_type": "execute_result"
    }
   ],
   "source": [
    "x.reshape(-1, 1)"
   ]
  },
  {
   "cell_type": "code",
   "execution_count": 235,
   "id": "6897ddcd-0c5b-40ee-9006-c009c92fcae0",
   "metadata": {},
   "outputs": [
    {
     "data": {
      "text/plain": [
       "array([[10],\n",
       "       [11],\n",
       "       [12],\n",
       "       [13],\n",
       "       [14],\n",
       "       [15],\n",
       "       [16],\n",
       "       [17],\n",
       "       [18],\n",
       "       [19]])"
      ]
     },
     "execution_count": 235,
     "metadata": {},
     "output_type": "execute_result"
    }
   ],
   "source": [
    "y.reshape(-1, 1)"
   ]
  },
  {
   "cell_type": "code",
   "execution_count": 236,
   "id": "c49a1c7c-dd0a-4883-b0a9-3c01beaed747",
   "metadata": {},
   "outputs": [
    {
     "data": {
      "text/plain": [
       "array([[ 0, 10],\n",
       "       [ 1, 11],\n",
       "       [ 2, 12],\n",
       "       [ 3, 13],\n",
       "       [ 4, 14],\n",
       "       [ 5, 15],\n",
       "       [ 6, 16],\n",
       "       [ 7, 17],\n",
       "       [ 8, 18],\n",
       "       [ 9, 19]])"
      ]
     },
     "execution_count": 236,
     "metadata": {},
     "output_type": "execute_result"
    }
   ],
   "source": [
    "np.hstack([x.reshape(-1, 1), y.reshape(-1, 1)])"
   ]
  },
  {
   "cell_type": "code",
   "execution_count": 240,
   "id": "e0cfe6f3-219e-438f-9f4c-c8572627b353",
   "metadata": {},
   "outputs": [
    {
     "data": {
      "text/plain": [
       "array([[-1, 10,  1],\n",
       "       [-1,  5,  4],\n",
       "       [ 3,  2,  1]])"
      ]
     },
     "execution_count": 240,
     "metadata": {},
     "output_type": "execute_result"
    }
   ],
   "source": [
    "np.flip(c, axis=1)"
   ]
  }
 ],
 "metadata": {
  "kernelspec": {
   "display_name": "Python 3 (ipykernel)",
   "language": "python",
   "name": "python3"
  },
  "language_info": {
   "codemirror_mode": {
    "name": "ipython",
    "version": 3
   },
   "file_extension": ".py",
   "mimetype": "text/x-python",
   "name": "python",
   "nbconvert_exporter": "python",
   "pygments_lexer": "ipython3",
   "version": "3.13.1"
  }
 },
 "nbformat": 4,
 "nbformat_minor": 5
}
